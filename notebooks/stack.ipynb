{
 "cells": [
  {
   "cell_type": "markdown",
   "metadata": {},
   "source": [
    "# Stack echelle spectra"
   ]
  },
  {
   "cell_type": "code",
   "execution_count": 1,
   "metadata": {
    "collapsed": true
   },
   "outputs": [],
   "source": [
    "%matplotlib inline\n",
    "import numpy as np\n",
    "import matplotlib.pyplot as plt\n",
    "import sys\n",
    "import os\n",
    "from astropy.io import fits\n",
    "\n",
    "sys.path.insert(0, '../')"
   ]
  },
  {
   "cell_type": "code",
   "execution_count": 2,
   "metadata": {
    "collapsed": false
   },
   "outputs": [],
   "source": [
    "from nephelion import RawImage, ImageSet"
   ]
  },
  {
   "cell_type": "markdown",
   "metadata": {},
   "source": [
    "Find all of the spectra: "
   ]
  },
  {
   "cell_type": "code",
   "execution_count": 3,
   "metadata": {
    "collapsed": false
   },
   "outputs": [],
   "source": [
    "from glob import glob\n",
    "\n",
    "home = os.path.expanduser('~')\n",
    "target_1 = 'EPIC211928486'\n",
    "target_2 = 'EPIC211966629'\n",
    "\n",
    "prog_nights = ['Q4UW09/UT171128', 'Q4UW09/UT171204', 'Q4UW06/UT171208', \n",
    "               'Q4UW06/UT171211', 'Q4UW06/UT171211']\n",
    "\n",
    "target_1_paths = []\n",
    "target_2_paths = []\n",
    "\n",
    "for prog_night in prog_nights:\n",
    "    target_1_paths.append(glob('{0}/data/{1}/{2}.????.fits'\n",
    "                               .format(home, prog_night, target_1, )))\n",
    "    target_2_paths.append(glob('{0}/data/{1}/{2}.????.fits'\n",
    "                               .format(home, prog_night, target_2, )))"
   ]
  },
  {
   "cell_type": "markdown",
   "metadata": {},
   "source": [
    "Concatenate lists of spectra from each target, toss any empty lists: "
   ]
  },
  {
   "cell_type": "code",
   "execution_count": 4,
   "metadata": {
    "collapsed": true
   },
   "outputs": [],
   "source": [
    "all_paths = target_1_paths + target_2_paths\n",
    "all_paths = [p for p in all_paths if len(p) > 0]"
   ]
  },
  {
   "cell_type": "markdown",
   "metadata": {},
   "source": [
    "For all spectra of one target on one night: \n",
    "* remove cosmic rays from the individual spectra\n",
    "* stack cleaned spectra\n",
    "* save to a FITS file with updated header"
   ]
  },
  {
   "cell_type": "code",
   "execution_count": 8,
   "metadata": {
    "collapsed": false
   },
   "outputs": [],
   "source": [
    "for paths in all_paths:\n",
    "    images = ImageSet([RawImage.from_fits(path) for path in paths])\n",
    "    image, header, name = images.clean_and_stack(sigclip=2)\n",
    "    \n",
    "    name = name.replace(' ', '')\n",
    "    date = header['DATE-OBS'].split('T')[0]\n",
    "    stacked_path = '../data/stack_{0}_{1}.fits'.format(name, date)\n",
    "    fits.writeto(stacked_path, image, header, overwrite=True)"
   ]
  }
 ],
 "metadata": {
  "kernelspec": {
   "display_name": "Python 3",
   "language": "python",
   "name": "python3"
  },
  "language_info": {
   "codemirror_mode": {
    "name": "ipython",
    "version": 3
   },
   "file_extension": ".py",
   "mimetype": "text/x-python",
   "name": "python",
   "nbconvert_exporter": "python",
   "pygments_lexer": "ipython3",
   "version": "3.5.4"
  }
 },
 "nbformat": 4,
 "nbformat_minor": 0
}
